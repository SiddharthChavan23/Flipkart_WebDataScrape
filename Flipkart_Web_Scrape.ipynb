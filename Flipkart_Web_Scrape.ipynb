{
  "nbformat": 4,
  "nbformat_minor": 0,
  "metadata": {
    "colab": {
      "provenance": [],
      "authorship_tag": "ABX9TyMS8AawbD15uPsswzRiHcbN",
      "include_colab_link": true
    },
    "kernelspec": {
      "name": "python3",
      "display_name": "Python 3"
    },
    "language_info": {
      "name": "python"
    }
  },
  "cells": [
    {
      "cell_type": "markdown",
      "metadata": {
        "id": "view-in-github",
        "colab_type": "text"
      },
      "source": [
        "<a href=\"https://colab.research.google.com/github/SiddharthChavan23/Flipkart_WebDataScrape/blob/main/Flipkart_Web_Scrape.ipynb\" target=\"_parent\"><img src=\"https://colab.research.google.com/assets/colab-badge.svg\" alt=\"Open In Colab\"/></a>"
      ]
    },
    {
      "cell_type": "code",
      "source": [
        "from bs4 import BeautifulSoup\n",
        "import requests\n",
        "import pandas as pd\n",
        "import numpy as np"
      ],
      "metadata": {
        "id": "TJzEteY6IF0M"
      },
      "execution_count": 45,
      "outputs": []
    },
    {
      "cell_type": "code",
      "source": [
        "# Function to extract Product Title\n",
        "def get_title(soup):\n",
        "\n",
        "    try:\n",
        "        # Outer Tag Object\n",
        "        title = soup.find(\"span\", attrs={\"class\":'B_NuCI'})\n",
        "        \n",
        "        # Inner NavigatableString Object\n",
        "        title_value = title.text\n",
        "\n",
        "        # Title as a string value\n",
        "        title_string = title_value.strip()\n",
        "\n",
        "    except AttributeError:\n",
        "        title_string = \"\"\n",
        "\n",
        "    return title_string\n",
        "\n",
        "\n",
        "\n",
        "def get_disc_price(soup):\n",
        "    try:\n",
        "        disc_price = soup.find(\"div\",attrs={'class':'_30jeq3 _16Jk6d'})\n",
        "        disc_price_value = disc_price.text\n",
        "    except AttributeError:\n",
        "        disc_price_value = \"\"\n",
        "    return disc_price_value\n",
        "\n",
        "def get_og_price(soup):\n",
        "    try:\n",
        "      og_price = soup.find(\"div\",attrs={'class':'_3I9_wc _2p6lqe'})\n",
        "      og_price = og_price.text\n",
        "    except AttributeError:\n",
        "      try:\n",
        "        og_price = soup.find(\"div\",attrs={'class':'_17Rl6L'})\n",
        "        og_price = og_price.text\n",
        "      except AttributeError:\n",
        "        og_price = \"\"\n",
        "    return og_price\n",
        "def get_total_discount(soup):\n",
        "    try:\n",
        "        get_total_discount = soup.find(\"div\",attrs={'class':'_3Ay6Sb _31Dcoz'})\n",
        "        get_total_discount = get_total_discount.text\n",
        "    except AttributeError:\n",
        "        get_total_discount = \"No discount\"\n",
        "\n",
        "    return get_total_discount"
      ],
      "metadata": {
        "id": "W8MCcy7ZgWXj"
      },
      "execution_count": 67,
      "outputs": []
    },
    {
      "cell_type": "code",
      "source": [
        "if __name__ == '__main__':\n",
        "\n",
        "  #Header for Requests\n",
        "  # https://explore.whatismybrowser.com/useragents/parse/\n",
        "  HEADERS = ({'','Accept-Language':'en-US, en:q=0.5'})\n",
        "\n",
        "  URL = \"https://www.flipkart.com/search?q=television&sid=ckf%2Cczl&as=on&as-show=on&otracker=AS_QueryStore_OrganicAutoSuggest_1_4_na_na_na&otracker1=AS_QueryStore_OrganicAutoSuggest_1_4_na_na_na&as-pos=1&as-type=HISTORY&suggestionId=television%7CTelevisions&requestId=5b542260-5b8a-4605-b220-3eaae0c7cd64\"\n",
        "\n",
        "  #HTTPS Requests\n",
        "  webpage = requests.get(URL,headers=HEADERS)\n",
        "  #Soup Object  containing all data\n",
        "  soup = BeautifulSoup(webpage.content, \"html.parser\")\n",
        "  #Fetch links as List of Tag Object\n",
        "  links = soup.find_all(\"a\",attrs = {'class':'_1fQZEK'})\n",
        "  #Store links in a list\n",
        "  link_lists = []\n",
        "\n",
        "\n",
        "  for link in links:\n",
        "    link_lists.append(link.get('href'))\n",
        "\n",
        "  d = {\"title\":[],\"discounted_price\":[],\"original_price\":[],\"total_discount\":[]}\n",
        "\n",
        "\n",
        "\n",
        "\n",
        "  # Loop for extracting each information for each links.\n",
        "  for link in link_lists:\n",
        "    new_webpage = requests.get(\"https://www.flipkart.com\" + link,headers = HEADERS)\n",
        "    new_soup = BeautifulSoup(new_webpage.content, \"html.parser\")\n",
        "\n",
        "\n",
        "    d['title'].append(get_title(new_soup))\n",
        "    d['discounted_price'].append(get_disc_price(new_soup))\n",
        "    d['original_price'].append(get_og_price(new_soup))\n",
        "    d['total_discount'].append(get_total_discount(new_soup))\n",
        "\n",
        "\n",
        "  amazon_df = pd.DataFrame.from_dict(d)\n",
        "  amazon_df['title'].replace('', np.nan, inplace=True)\n",
        "  amazon_df = amazon_df.dropna(subset=['title'])\n",
        "  amazon_df.to_csv(\"amazon_data.csv\", header=True, index=False)"
      ],
      "metadata": {
        "id": "Ac_kv8aTTJ3L"
      },
      "execution_count": 69,
      "outputs": []
    },
    {
      "cell_type": "code",
      "source": [],
      "metadata": {
        "id": "w__MP4-xjPDx"
      },
      "execution_count": null,
      "outputs": []
    }
  ]
}